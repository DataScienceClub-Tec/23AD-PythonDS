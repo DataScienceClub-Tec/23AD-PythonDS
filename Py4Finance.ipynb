{
 "nbformat": 4,
 "nbformat_minor": 0,
 "metadata": {
  "colab": {
   "provenance": []
  },
  "kernelspec": {
   "name": "python3",
   "language": "python",
   "display_name": "Python 3 (ipykernel)"
  },
  "language_info": {
   "name": "python"
  }
 },
 "cells": [
  {
   "cell_type": "markdown",
   "source": [
    "# **Python for finance (Python Fundamentals)**"
   ],
   "metadata": {
    "id": "Pe40iwQZ6XW5"
   }
  },
  {
   "cell_type": "code",
   "execution_count": 1,
   "metadata": {
    "id": "fIAeJEDH597X",
    "ExecuteTime": {
     "end_time": "2023-08-16T20:30:53.917570Z",
     "start_time": "2023-08-16T20:30:45.058304Z"
    }
   },
   "outputs": [
    {
     "name": "stdout",
     "output_type": "stream",
     "text": [
      "\u001B[31mERROR: pip's dependency resolver does not currently take into account all the packages that are installed. This behaviour is the source of the following dependency conflicts.\r\n",
      "conda-repo-cli 1.0.41 requires requests_mock, which is not installed.\r\n",
      "conda-repo-cli 1.0.41 requires clyent==1.2.1, but you have clyent 1.2.2 which is incompatible.\r\n",
      "conda-repo-cli 1.0.41 requires nbformat==5.4.0, but you have nbformat 5.7.0 which is incompatible.\r\n",
      "conda-repo-cli 1.0.41 requires requests==2.28.1, but you have requests 2.31.0 which is incompatible.\u001B[0m\u001B[31m\r\n",
      "\u001B[0m"
     ]
    }
   ],
   "source": [
    "# Instalar librería de Yahoo Finance\n",
    "!pip install yfinance > /dev/null\n",
    "!pip install pandas > /dev/null"
   ]
  },
  {
   "cell_type": "code",
   "source": [
    "import yfinance as yf\n",
    "import pandas as pd\n",
    "import os\n",
    "import matplotlib.pyplot as plt\n",
    "from datetime import datetime\n",
    "import pytz"
   ],
   "metadata": {
    "id": "pDla2JH__s5j",
    "ExecuteTime": {
     "end_time": "2023-08-16T20:30:55.947022Z",
     "start_time": "2023-08-16T20:30:53.923181Z"
    }
   },
   "execution_count": 2,
   "outputs": []
  },
  {
   "cell_type": "markdown",
   "source": [
    "Antes que nada es necesario realiar un análisis exploratorio de los datos. El primer paso es importar el archivo csv con los datos y convertirlo a un pandas dataframe.\n",
    "\n",
    "[Más información de los datos](https://finance.yahoo.com/quote/%5EGSPC/)"
   ],
   "metadata": {
    "id": "Zqx8XhGA1vEV"
   }
  },
  {
   "cell_type": "code",
   "source": [
    "# Verificar si el archivo CSV ya existe para evitar descarga innecesaria\n",
    "if os.path.exists(\"sp500.csv\"):\n",
    "    sp500 = pd.read_csv(\"sp500.csv\", index_col=0)\n",
    "else:\n",
    "    # Descargar datos del índice S&P 500 utilizando yfinance\n",
    "    sp500 = yf.Ticker(\"^GSPC\")\n",
    "    sp500 = sp500.history(period=\"max\")\n",
    "    sp500.to_csv(\"sp500.csv\")"
   ],
   "metadata": {
    "id": "6D3p8fkq6iaU",
    "ExecuteTime": {
     "end_time": "2023-08-16T20:30:56.013070Z",
     "start_time": "2023-08-16T20:30:55.949200Z"
    }
   },
   "execution_count": 3,
   "outputs": []
  },
  {
   "cell_type": "code",
   "source": [
    "sp500.head()"
   ],
   "metadata": {
    "colab": {
     "base_uri": "https://localhost:8080/",
     "height": 238
    },
    "id": "DCpB59MCCnlg",
    "outputId": "979cede2-a956-402e-f091-14b294970e33",
    "ExecuteTime": {
     "end_time": "2023-08-16T20:30:56.154815Z",
     "start_time": "2023-08-16T20:30:56.014678Z"
    }
   },
   "execution_count": 4,
   "outputs": [
    {
     "data": {
      "text/plain": "                                Open       High        Low      Close  Volume  \\\nDate                                                                            \n1927-12-30 00:00:00-05:00  17.660000  17.660000  17.660000  17.660000       0   \n1928-01-03 00:00:00-05:00  17.760000  17.760000  17.760000  17.760000       0   \n1928-01-04 00:00:00-05:00  17.719999  17.719999  17.719999  17.719999       0   \n1928-01-05 00:00:00-05:00  17.549999  17.549999  17.549999  17.549999       0   \n1928-01-06 00:00:00-05:00  17.660000  17.660000  17.660000  17.660000       0   \n\n                           Dividends  Stock Splits  \nDate                                                \n1927-12-30 00:00:00-05:00        0.0           0.0  \n1928-01-03 00:00:00-05:00        0.0           0.0  \n1928-01-04 00:00:00-05:00        0.0           0.0  \n1928-01-05 00:00:00-05:00        0.0           0.0  \n1928-01-06 00:00:00-05:00        0.0           0.0  ",
      "text/html": "<div>\n<style scoped>\n    .dataframe tbody tr th:only-of-type {\n        vertical-align: middle;\n    }\n\n    .dataframe tbody tr th {\n        vertical-align: top;\n    }\n\n    .dataframe thead th {\n        text-align: right;\n    }\n</style>\n<table border=\"1\" class=\"dataframe\">\n  <thead>\n    <tr style=\"text-align: right;\">\n      <th></th>\n      <th>Open</th>\n      <th>High</th>\n      <th>Low</th>\n      <th>Close</th>\n      <th>Volume</th>\n      <th>Dividends</th>\n      <th>Stock Splits</th>\n    </tr>\n    <tr>\n      <th>Date</th>\n      <th></th>\n      <th></th>\n      <th></th>\n      <th></th>\n      <th></th>\n      <th></th>\n      <th></th>\n    </tr>\n  </thead>\n  <tbody>\n    <tr>\n      <th>1927-12-30 00:00:00-05:00</th>\n      <td>17.660000</td>\n      <td>17.660000</td>\n      <td>17.660000</td>\n      <td>17.660000</td>\n      <td>0</td>\n      <td>0.0</td>\n      <td>0.0</td>\n    </tr>\n    <tr>\n      <th>1928-01-03 00:00:00-05:00</th>\n      <td>17.760000</td>\n      <td>17.760000</td>\n      <td>17.760000</td>\n      <td>17.760000</td>\n      <td>0</td>\n      <td>0.0</td>\n      <td>0.0</td>\n    </tr>\n    <tr>\n      <th>1928-01-04 00:00:00-05:00</th>\n      <td>17.719999</td>\n      <td>17.719999</td>\n      <td>17.719999</td>\n      <td>17.719999</td>\n      <td>0</td>\n      <td>0.0</td>\n      <td>0.0</td>\n    </tr>\n    <tr>\n      <th>1928-01-05 00:00:00-05:00</th>\n      <td>17.549999</td>\n      <td>17.549999</td>\n      <td>17.549999</td>\n      <td>17.549999</td>\n      <td>0</td>\n      <td>0.0</td>\n      <td>0.0</td>\n    </tr>\n    <tr>\n      <th>1928-01-06 00:00:00-05:00</th>\n      <td>17.660000</td>\n      <td>17.660000</td>\n      <td>17.660000</td>\n      <td>17.660000</td>\n      <td>0</td>\n      <td>0.0</td>\n      <td>0.0</td>\n    </tr>\n  </tbody>\n</table>\n</div>"
     },
     "execution_count": 4,
     "metadata": {},
     "output_type": "execute_result"
    }
   ]
  },
  {
   "cell_type": "code",
   "source": [
    "# Convertimos el indice \"Date\" a formato fecha usando pandas\n",
    "print(sp500.index)\n",
    "sp500.index = pd.to_datetime(sp500.index)"
   ],
   "metadata": {
    "colab": {
     "base_uri": "https://localhost:8080/"
    },
    "id": "wujinks2_v9i",
    "outputId": "b9a5d80c-988a-48b8-f2b9-8db8b6fab96a",
    "ExecuteTime": {
     "end_time": "2023-08-16T20:30:57.241433Z",
     "start_time": "2023-08-16T20:30:56.155109Z"
    }
   },
   "execution_count": 5,
   "outputs": [
    {
     "name": "stdout",
     "output_type": "stream",
     "text": [
      "Index(['1927-12-30 00:00:00-05:00', '1928-01-03 00:00:00-05:00',\n",
      "       '1928-01-04 00:00:00-05:00', '1928-01-05 00:00:00-05:00',\n",
      "       '1928-01-06 00:00:00-05:00', '1928-01-09 00:00:00-05:00',\n",
      "       '1928-01-10 00:00:00-05:00', '1928-01-11 00:00:00-05:00',\n",
      "       '1928-01-12 00:00:00-05:00', '1928-01-13 00:00:00-05:00',\n",
      "       ...\n",
      "       '2023-07-24 00:00:00-04:00', '2023-07-25 00:00:00-04:00',\n",
      "       '2023-07-26 00:00:00-04:00', '2023-07-27 00:00:00-04:00',\n",
      "       '2023-07-28 00:00:00-04:00', '2023-07-31 00:00:00-04:00',\n",
      "       '2023-08-01 00:00:00-04:00', '2023-08-02 00:00:00-04:00',\n",
      "       '2023-08-03 00:00:00-04:00', '2023-08-04 00:00:00-04:00'],\n",
      "      dtype='object', name='Date', length=24013)\n"
     ]
    }
   ]
  },
  {
   "cell_type": "code",
   "source": [
    "# Graficar la línea del cierre del índice S&P 500\n",
    "sp500.plot.line(y=\"Close\", use_index=True)\n",
    "plt.xlabel(\"Año\")\n",
    "plt.ylabel(\"Precio de Cierre\")\n",
    "plt.title(\"Precio de Cierre del Índice S&P 500\")"
   ],
   "metadata": {
    "colab": {
     "base_uri": "https://localhost:8080/",
     "height": 462
    },
    "id": "vzVbAQAQ_3Eo",
    "outputId": "938901c7-d3e4-4551-8979-8980359fad07",
    "ExecuteTime": {
     "end_time": "2023-08-16T20:30:57.937111Z",
     "start_time": "2023-08-16T20:30:57.236138Z"
    }
   },
   "execution_count": 6,
   "outputs": [
    {
     "data": {
      "text/plain": "Text(0.5, 1.0, 'Precio de Cierre del Índice S&P 500')"
     },
     "execution_count": 6,
     "metadata": {},
     "output_type": "execute_result"
    },
    {
     "data": {
      "text/plain": "<Figure size 640x480 with 1 Axes>",
      "image/png": "[encoded data removed]"
     },
     "metadata": {},
     "output_type": "display_data"
    }
   ]
  },
  {
   "cell_type": "markdown",
   "source": [
    "Ahora es necesario establecer exactamente qué es lo que se va a predecir. Para tener una noción sobre si el precio de una acción tiende a subir o bajar podemos comparar su precio de cierre en cierto momento histórico respecto a su precio futuro. Para ello crearemos una columna de precio futuro que contenga el precio de cierre de la acción al día siguiente. Así podremos ver si sube o baja."
   ],
   "metadata": {
    "id": "2wPylwri5bM_"
   }
  },
  {
   "cell_type": "code",
   "source": [
    "# Eliminar columnas innecesarias\n",
    "del sp500[\"Dividends\"]\n",
    "del sp500[\"Stock Splits\"]"
   ],
   "metadata": {
    "id": "SKmklCUc_6V7",
    "ExecuteTime": {
     "end_time": "2023-08-16T20:30:57.974486Z",
     "start_time": "2023-08-16T20:30:57.937554Z"
    }
   },
   "execution_count": 7,
   "outputs": []
  },
  {
   "cell_type": "code",
   "source": [
    "# Crear una columna \"Tomorrow\" con los valores desplazados del cierre del día siguiente\n",
    "sp500[\"Tomorrow\"] = sp500[\"Close\"].shift(-1)"
   ],
   "metadata": {
    "id": "PSeg2yjK_753",
    "ExecuteTime": {
     "end_time": "2023-08-16T20:30:57.995196Z",
     "start_time": "2023-08-16T20:30:57.938362Z"
    }
   },
   "execution_count": 8,
   "outputs": []
  },
  {
   "cell_type": "code",
   "source": [
    "# Crear una columna \"Target\" que indica si el valor de \"Tomorrow\" es mayor que \"Close\"\n",
    "# (es decir, si el precio sube)\n",
    "sp500[\"Target\"] = (sp500[\"Tomorrow\"] > sp500[\"Close\"]).astype(int)"
   ],
   "metadata": {
    "id": "9buPMUsx_8rm",
    "ExecuteTime": {
     "end_time": "2023-08-16T20:30:58.016895Z",
     "start_time": "2023-08-16T20:30:57.938606Z"
    }
   },
   "execution_count": 9,
   "outputs": []
  },
  {
   "cell_type": "code",
   "source": [
    "# Definir una fecha mínima para filtrar los datos\n",
    "min_date = datetime(year=1990, month=1, day=1)\n",
    "min_date = pytz.utc.localize(min_date)\n",
    "\n",
    "# Filtrar el DataFrame para incluir solo datos posteriores a la fecha mínima\n",
    "sp500 = sp500[sp500.index > min_date]"
   ],
   "metadata": {
    "id": "amQQbLOxAArd",
    "ExecuteTime": {
     "end_time": "2023-08-16T20:30:58.027382Z",
     "start_time": "2023-08-16T20:30:57.959582Z"
    }
   },
   "execution_count": 10,
   "outputs": []
  },
  {
   "cell_type": "markdown",
   "source": [
    "# Predicción con random forest\n",
    "\n",
    "- n_estimators: El número de árboles en el bosque.\n",
    "\n",
    "- min_samples_split: El número mínimo de muestras requeridas para dividir un nodo interno.\n",
    "\n",
    "- random_state: Semilla aleatoria para la generación de números pseudoaleatorios."
   ],
   "metadata": {
    "id": "s5Ms8nsqEtYv"
   }
  },
  {
   "cell_type": "code",
   "source": [
    "'''from sklearn.model_selection import GridSearchCV\n",
    "\n",
    "# Definir los valores que deseas probar para cada hiperparámetro\n",
    "param_grid = {\n",
    "    'n_estimators': [50, 100, 150],\n",
    "    'min_samples_split': [2, 5, 10],\n",
    "    'random_state': [1, 42, 123]\n",
    "}\n",
    "\n",
    "# Crear un objeto GridSearchCV para buscar los mejores hiperparámetros\n",
    "grid_search = GridSearchCV(estimator=model, param_grid=param_grid, cv=5)\n",
    "grid_search.fit(train[predictors], train[\"Target\"])\n",
    "\n",
    "# Imprimir los mejores hiperparámetros encontrados\n",
    "print(\"Mejores hiperparámetros:\", grid_search.best_params_)\n",
    "'''"
   ],
   "metadata": {
    "colab": {
     "base_uri": "https://localhost:8080/",
     "height": 91
    },
    "id": "TCgv6-M3E_rL",
    "outputId": "21e68e6f-0219-42dd-870c-185d4f66cab7",
    "ExecuteTime": {
     "end_time": "2023-08-16T20:30:58.063313Z",
     "start_time": "2023-08-16T20:30:57.965341Z"
    }
   },
   "execution_count": 11,
   "outputs": [
    {
     "data": {
      "text/plain": "'from sklearn.model_selection import GridSearchCV\\n\\n# Definir los valores que deseas probar para cada hiperparámetro\\nparam_grid = {\\n    \\'n_estimators\\': [50, 100, 150],\\n    \\'min_samples_split\\': [2, 5, 10],\\n    \\'random_state\\': [1, 42, 123]\\n}\\n\\n# Crear un objeto GridSearchCV para buscar los mejores hiperparámetros\\ngrid_search = GridSearchCV(estimator=model, param_grid=param_grid, cv=5)\\ngrid_search.fit(train[predictors], train[\"Target\"])\\n\\n# Imprimir los mejores hiperparámetros encontrados\\nprint(\"Mejores hiperparámetros:\", grid_search.best_params_)\\n'"
     },
     "execution_count": 11,
     "metadata": {},
     "output_type": "execute_result"
    }
   ]
  },
  {
   "cell_type": "code",
   "source": [
    "from sklearn.ensemble import RandomForestClassifier\n",
    "\n",
    "# Crear un modelo de clasificación RandomForest con parámetros específicos\n",
    "model = RandomForestClassifier(n_estimators=100, min_samples_split=100, random_state=1)\n",
    "\n",
    "# Dividir los datos en conjuntos de entrenamiento y prueba\n",
    "train = sp500.iloc[:-100]  # Utilizar todos los datos excepto los últimos 100 como conjunto de entrenamiento\n",
    "test = sp500.iloc[-100:]   # Utilizar los últimos 100 datos como conjunto de prueba\n",
    "\n",
    "# Definir las variables predictoras que vamos a usar para predecir\n",
    "predictors = [\"Close\", \"Volume\", \"Open\", \"High\", \"Low\"]\n",
    "\n",
    "# Entrenar el modelo utilizando las variables predictoras y el objetivo\n",
    "model.fit(train[predictors], train[\"Target\"])"
   ],
   "metadata": {
    "colab": {
     "base_uri": "https://localhost:8080/",
     "height": 75
    },
    "id": "ahpOpLXhAB_6",
    "outputId": "4ced4922-5788-4184-cab5-c2f801ab4641",
    "ExecuteTime": {
     "end_time": "2023-08-16T20:31:12.218649Z",
     "start_time": "2023-08-16T20:30:57.977333Z"
    }
   },
   "execution_count": 12,
   "outputs": [
    {
     "data": {
      "text/plain": "RandomForestClassifier(min_samples_split=100, random_state=1)",
      "text/html": "<style>#sk-container-id-1 {color: black;background-color: white;}#sk-container-id-1 pre{padding: 0;}#sk-container-id-1 div.sk-toggleable {background-color: white;}#sk-container-id-1 label.sk-toggleable__label {cursor: pointer;display: block;width: 100%;margin-bottom: 0;padding: 0.3em;box-sizing: border-box;text-align: center;}#sk-container-id-1 label.sk-toggleable__label-arrow:before {content: \"▸\";float: left;margin-right: 0.25em;color: #696969;}#sk-container-id-1 label.sk-toggleable__label-arrow:hover:before {color: black;}#sk-container-id-1 div.sk-estimator:hover label.sk-toggleable__label-arrow:before {color: black;}#sk-container-id-1 div.sk-toggleable__content {max-height: 0;max-width: 0;overflow: hidden;text-align: left;background-color: #f0f8ff;}#sk-container-id-1 div.sk-toggleable__content pre {margin: 0.2em;color: black;border-radius: 0.25em;background-color: #f0f8ff;}#sk-container-id-1 input.sk-toggleable__control:checked~div.sk-toggleable__content {max-height: 200px;max-width: 100%;overflow: auto;}#sk-container-id-1 input.sk-toggleable__control:checked~label.sk-toggleable__label-arrow:before {content: \"▾\";}#sk-container-id-1 div.sk-estimator input.sk-toggleable__control:checked~label.sk-toggleable__label {background-color: #d4ebff;}#sk-container-id-1 div.sk-label input.sk-toggleable__control:checked~label.sk-toggleable__label {background-color: #d4ebff;}#sk-container-id-1 input.sk-hidden--visually {border: 0;clip: rect(1px 1px 1px 1px);clip: rect(1px, 1px, 1px, 1px);height: 1px;margin: -1px;overflow: hidden;padding: 0;position: absolute;width: 1px;}#sk-container-id-1 div.sk-estimator {font-family: monospace;background-color: #f0f8ff;border: 1px dotted black;border-radius: 0.25em;box-sizing: border-box;margin-bottom: 0.5em;}#sk-container-id-1 div.sk-estimator:hover {background-color: #d4ebff;}#sk-container-id-1 div.sk-parallel-item::after {content: \"\";width: 100%;border-bottom: 1px solid gray;flex-grow: 1;}#sk-container-id-1 div.sk-label:hover label.sk-toggleable__label {background-color: #d4ebff;}#sk-container-id-1 div.sk-serial::before {content: \"\";position: absolute;border-left: 1px solid gray;box-sizing: border-box;top: 0;bottom: 0;left: 50%;z-index: 0;}#sk-container-id-1 div.sk-serial {display: flex;flex-direction: column;align-items: center;background-color: white;padding-right: 0.2em;padding-left: 0.2em;position: relative;}#sk-container-id-1 div.sk-item {position: relative;z-index: 1;}#sk-container-id-1 div.sk-parallel {display: flex;align-items: stretch;justify-content: center;background-color: white;position: relative;}#sk-container-id-1 div.sk-item::before, #sk-container-id-1 div.sk-parallel-item::before {content: \"\";position: absolute;border-left: 1px solid gray;box-sizing: border-box;top: 0;bottom: 0;left: 50%;z-index: -1;}#sk-container-id-1 div.sk-parallel-item {display: flex;flex-direction: column;z-index: 1;position: relative;background-color: white;}#sk-container-id-1 div.sk-parallel-item:first-child::after {align-self: flex-end;width: 50%;}#sk-container-id-1 div.sk-parallel-item:last-child::after {align-self: flex-start;width: 50%;}#sk-container-id-1 div.sk-parallel-item:only-child::after {width: 0;}#sk-container-id-1 div.sk-dashed-wrapped {border: 1px dashed gray;margin: 0 0.4em 0.5em 0.4em;box-sizing: border-box;padding-bottom: 0.4em;background-color: white;}#sk-container-id-1 div.sk-label label {font-family: monospace;font-weight: bold;display: inline-block;line-height: 1.2em;}#sk-container-id-1 div.sk-label-container {text-align: center;}#sk-container-id-1 div.sk-container {/* jupyter's `normalize.less` sets `[hidden] { display: none; }` but bootstrap.min.css set `[hidden] { display: none !important; }` so we also need the `!important` here to be able to override the default hidden behavior on the sphinx rendered scikit-learn.org. See: https://github.com/scikit-learn/scikit-learn/issues/21755 */display: inline-block !important;position: relative;}#sk-container-id-1 div.sk-text-repr-fallback {display: none;}</style><div id=\"sk-container-id-1\" class=\"sk-top-container\"><div class=\"sk-text-repr-fallback\"><pre>RandomForestClassifier(min_samples_split=100, random_state=1)</pre><b>In a Jupyter environment, please rerun this cell to show the HTML representation or trust the notebook. <br />On GitHub, the HTML representation is unable to render, please try loading this page with nbviewer.org.</b></div><div class=\"sk-container\" hidden><div class=\"sk-item\"><div class=\"sk-estimator sk-toggleable\"><input class=\"sk-toggleable__control sk-hidden--visually\" id=\"sk-estimator-id-1\" type=\"checkbox\" checked><label for=\"sk-estimator-id-1\" class=\"sk-toggleable__label sk-toggleable__label-arrow\">RandomForestClassifier</label><div class=\"sk-toggleable__content\"><pre>RandomForestClassifier(min_samples_split=100, random_state=1)</pre></div></div></div></div></div>"
     },
     "execution_count": 12,
     "metadata": {},
     "output_type": "execute_result"
    }
   ]
  },
  {
   "cell_type": "code",
   "source": [
    "from sklearn.metrics import precision_score\n",
    "\n",
    "# Realizar predicciones utilizando el modelo en el conjunto de prueba\n",
    "preds = model.predict(test[predictors])\n",
    "\n",
    "# Crear una Serie de pandas con las predicciones y usar los índices del conjunto de prueba\n",
    "preds = pd.Series(preds, index=test.index)\n",
    "\n",
    "# Calcular la precisión del modelo comparando las predicciones con los valores reales del objetivo\n",
    "precision = precision_score(test[\"Target\"], preds)\n",
    "\n",
    "# Imprimir el valor de la precisión\n",
    "print(f\"Precisión del modelo: {precision:.2f}\")"
   ],
   "metadata": {
    "colab": {
     "base_uri": "https://localhost:8080/"
    },
    "id": "OyGfbxyRAJcv",
    "outputId": "cccd1fd9-d851-4fde-8cc1-b4ee3fdc0e01",
    "ExecuteTime": {
     "end_time": "2023-08-16T20:31:12.246984Z",
     "start_time": "2023-08-16T20:31:12.206916Z"
    }
   },
   "execution_count": 13,
   "outputs": [
    {
     "name": "stdout",
     "output_type": "stream",
     "text": [
      "Precisión del modelo: 0.54\n"
     ]
    }
   ]
  },
  {
   "cell_type": "code",
   "source": [
    "\n",
    "\n",
    "def predict(train, test, predictors, model):\n",
    "    # Entrenar el modelo utilizando el conjunto de entrenamiento\n",
    "    model.fit(train[predictors], train[\"Target\"])\n",
    "\n",
    "    # Realizar predicciones en el conjunto de prueba\n",
    "    preds = model.predict(test[predictors])\n",
    "\n",
    "    # Crear una Serie de pandas con las predicciones y usar los índices del conjunto de prueba\n",
    "    preds = pd.Series(preds, index=test.index, name=\"Predictions\")\n",
    "\n",
    "    # Combinar los valores reales del objetivo y las predicciones en un DataFrame\n",
    "    combined = pd.concat([test[\"Target\"], preds], axis=1)\n",
    "\n",
    "    return combined\n"
   ],
   "metadata": {
    "id": "DmHbgPZ_AKFr",
    "ExecuteTime": {
     "end_time": "2023-08-16T20:31:12.314796Z",
     "start_time": "2023-08-16T20:31:12.283938Z"
    }
   },
   "execution_count": 14,
   "outputs": []
  },
  {
   "cell_type": "code",
   "source": [
    "def backtest(data, model, predictors, start=2500, step=250):\n",
    "    all_predictions = []\n",
    "\n",
    "    # Iterar a través de ventanas de tiempo desplazadas\n",
    "    for i in range(start, data.shape[0], step):\n",
    "        train = data.iloc[0:i].copy()        # Conjunto de entrenamiento\n",
    "        test = data.iloc[i:(i+step)].copy()  # Conjunto de prueba\n",
    "        predictions = predict(train, test, predictors, model)  # Realizar predicciones\n",
    "        all_predictions.append(predictions)\n",
    "\n",
    "    # Combinar todos los resultados de predicción en un solo DataFrame\n",
    "    return pd.concat(all_predictions)"
   ],
   "metadata": {
    "id": "yqrndsXxAL5w",
    "ExecuteTime": {
     "end_time": "2023-08-16T20:31:12.334085Z",
     "start_time": "2023-08-16T20:31:12.315597Z"
    }
   },
   "execution_count": 15,
   "outputs": []
  },
  {
   "cell_type": "code",
   "source": [
    "predictions = backtest(sp500, model, predictors)"
   ],
   "metadata": {
    "id": "KVsG15OiANyS",
    "ExecuteTime": {
     "end_time": "2023-08-16T20:32:03.104945Z",
     "start_time": "2023-08-16T20:31:12.327123Z"
    }
   },
   "execution_count": 16,
   "outputs": []
  },
  {
   "cell_type": "code",
   "source": [
    "# Calcular el recuento de valores únicos en la columna \"Predictions\" del DataFrame predictions\n",
    "# Esto nos dará una idea de cómo se distribuyen las predicciones realizadas por el modelo\n",
    "\n",
    "# Calcular el recuento de valores únicos en la columna \"Predictions\"\n",
    "prediction_counts = predictions[\"Predictions\"].value_counts()\n",
    "\n",
    "# Imprimir el recuento de valores únicos en la columna \"Predictions\"\n",
    "print(prediction_counts)\n"
   ],
   "metadata": {
    "colab": {
     "base_uri": "https://localhost:8080/"
    },
    "id": "eXQe8T6eAPHO",
    "outputId": "2c908b68-a6c3-4c4e-b64d-80285e2bd97e",
    "ExecuteTime": {
     "end_time": "2023-08-16T20:32:03.141628Z",
     "start_time": "2023-08-16T20:32:03.099320Z"
    }
   },
   "execution_count": 17,
   "outputs": [
    {
     "name": "stdout",
     "output_type": "stream",
     "text": [
      "0    3427\n",
      "1    2536\n",
      "Name: Predictions, dtype: int64\n"
     ]
    }
   ]
  },
  {
   "cell_type": "code",
   "source": [
    "# Calcular la precisión del modelo comparando las predicciones con los valores reales del objetivo en el DataFrame predictions\n",
    "precision = precision_score(predictions[\"Target\"], predictions[\"Predictions\"])\n",
    "\n",
    "# Imprimir la precisión del modelo en el backtest con un formato de dos decimales\n",
    "print(f\"Precisión del modelo en el backtest: {precision:.2f}\")"
   ],
   "metadata": {
    "colab": {
     "base_uri": "https://localhost:8080/"
    },
    "id": "Xg8-i66tARkl",
    "outputId": "5c8b5f9a-a6ce-43aa-8945-92aff4329bb3",
    "ExecuteTime": {
     "end_time": "2023-08-16T20:32:03.227017Z",
     "start_time": "2023-08-16T20:32:03.117603Z"
    }
   },
   "execution_count": 18,
   "outputs": [
    {
     "name": "stdout",
     "output_type": "stream",
     "text": [
      "Precisión del modelo en el backtest: 0.53\n"
     ]
    }
   ]
  },
  {
   "cell_type": "code",
   "source": [
    "# Calcular la proporción de valores únicos en la columna \"Target\" del DataFrame predictions\n",
    "# Esto nos dará una idea de cómo se distribuyen las clases reales en los datos de prueba durante el backtest\n",
    "\n",
    "# Calcular el conteo de valores únicos en la columna \"Target\" y dividirlo entre el número total de filas en el DataFrame predictions\n",
    "target_distribution = predictions[\"Target\"].value_counts() / predictions.shape[0]\n",
    "\n",
    "# Imprimir la distribución de las clases reales en el backtest\n",
    "print(target_distribution)\n",
    "\n",
    "# La proporción te ayudará a comprender cómo se distribuyen las clases y puede ser útil para evaluar la calidad de las predicciones en\n",
    "# relación con esta distribución.\n"
   ],
   "metadata": {
    "colab": {
     "base_uri": "https://localhost:8080/"
    },
    "id": "Vap2pLLIAUBB",
    "outputId": "63c942b1-0c2b-4e42-edd2-559a1095ad11",
    "ExecuteTime": {
     "end_time": "2023-08-16T20:32:03.526846Z",
     "start_time": "2023-08-16T20:32:03.145026Z"
    }
   },
   "execution_count": 19,
   "outputs": [
    {
     "name": "stdout",
     "output_type": "stream",
     "text": [
      "1    0.533959\n",
      "0    0.466041\n",
      "Name: Target, dtype: float64\n"
     ]
    }
   ]
  },
  {
   "cell_type": "markdown",
   "source": [
    "## Modelo 2 - Cambiar parametros"
   ],
   "metadata": {
    "id": "XW8twome8Yu0"
   }
  },
  {
   "cell_type": "code",
   "execution_count": 20,
   "outputs": [],
   "source": [
    "# Definir una lista de horizontes de tiempo para calcular los promedios móviles y tendencias\n",
    "horizons = [2, 4, 8, 16, 32, 64, 128]\n",
    "\n",
    "# Crear una lista para almacenar los nuevos predictores generados\n",
    "new_predictors = []\n",
    "\n",
    "# Iterar a través de los horizontes de tiempo\n",
    "for horizon in horizons:\n",
    "    # Calcular promedios móviles con la ventana del horizonte actual\n",
    "    rolling_averages = sp500.rolling(horizon).mean()\n",
    "\n",
    "    # Crear una nueva columna para la relación de cierre con el promedio móvil\n",
    "    ratio_column = f\"Close_Ratio_{horizon}\"\n",
    "    sp500[ratio_column] = sp500[\"Close\"] / rolling_averages[\"Close\"]\n",
    "\n",
    "    # Crear una nueva columna para la tendencia utilizando sumas acumuladas de Target desplazados\n",
    "    trend_column = f\"Trend_{horizon}\"\n",
    "    sp500[trend_column] = sp500.shift(1).rolling(horizon).sum()[\"Target\"]\n",
    "\n",
    "    # Agregar las nuevas columnas a la lista de predictores\n",
    "    new_predictors += [ratio_column, trend_column]\n"
   ],
   "metadata": {
    "collapsed": false,
    "ExecuteTime": {
     "end_time": "2023-08-16T20:32:03.590728Z",
     "start_time": "2023-08-16T20:32:03.155700Z"
    }
   }
  },
  {
   "cell_type": "code",
   "execution_count": 21,
   "outputs": [],
   "source": [
    "# Eliminar filas con valores faltantes en las columnas que no sean \"Tomorrow\"\n",
    "# Esto se hace para asegurarse de que los datos sean consistentes y completos para el análisis\n",
    "sp500 = sp500.dropna(subset=sp500.columns[sp500.columns != \"Tomorrow\"])\n"
   ],
   "metadata": {
    "collapsed": false,
    "ExecuteTime": {
     "end_time": "2023-08-16T20:32:03.823901Z",
     "start_time": "2023-08-16T20:32:03.227461Z"
    }
   }
  },
  {
   "cell_type": "code",
   "source": [
    "# Crear un nuevo modelo de clasificación RandomForest con los parámetros especificados\n",
    "model = RandomForestClassifier(n_estimators=200, min_samples_split=50, random_state=1)"
   ],
   "metadata": {
    "id": "xppZWYj8AaBq",
    "ExecuteTime": {
     "end_time": "2023-08-16T20:32:03.879954Z",
     "start_time": "2023-08-16T20:32:03.228711Z"
    }
   },
   "execution_count": 22,
   "outputs": []
  },
  {
   "cell_type": "code",
   "source": [
    "def predict(train, test, predictors, model):\n",
    "    # Entrenar el modelo utilizando el conjunto de entrenamiento\n",
    "    model.fit(train[predictors], train[\"Target\"])\n",
    "\n",
    "    # Realizar predicciones de probabilidades en el conjunto de prueba\n",
    "    preds = model.predict_proba(test[predictors])[:, 1]  # Tomar la probabilidad de la clase positiva\n",
    "\n",
    "    # Aplicar un umbral para las predicciones (por ejemplo, 0.6)\n",
    "    # Aplica un umbral (en este caso, 0.6) para convertir las probabilidades en predicciones binarias.\n",
    "    preds[preds >= 0.6] = 1\n",
    "    preds[preds < 0.6] = 0\n",
    "\n",
    "    # Crear una Serie de pandas con las predicciones y usar los índices del conjunto de prueba\n",
    "    preds = pd.Series(preds, index=test.index, name=\"Predictions\")\n",
    "\n",
    "    # Combinar los valores reales del objetivo y las predicciones en un DataFrame\n",
    "    combined = pd.concat([test[\"Target\"], preds], axis=1)\n",
    "\n",
    "    return combined\n",
    "\n"
   ],
   "metadata": {
    "id": "2aJS9v9CAhIp",
    "ExecuteTime": {
     "end_time": "2023-08-16T20:32:03.934591Z",
     "start_time": "2023-08-16T20:32:03.231392Z"
    }
   },
   "execution_count": 23,
   "outputs": []
  },
  {
   "cell_type": "code",
   "source": [
    "# Definir la función de análisis de retroceso\n",
    "def backtest(data, model, predictors, start=2500, step=250):\n",
    "    all_predictions = []\n",
    "\n",
    "    for i in range(start, data.shape[0], step):\n",
    "        train = data.iloc[0:i].copy()\n",
    "        test = data.iloc[i:(i+step)].copy()\n",
    "        predictions = predict(train, test, predictors, model)\n",
    "        all_predictions.append(predictions)\n",
    "\n",
    "    return pd.concat(all_predictions)"
   ],
   "metadata": {
    "id": "4p95Vr-idDy6",
    "ExecuteTime": {
     "end_time": "2023-08-16T20:32:03.938082Z",
     "start_time": "2023-08-16T20:32:03.242633Z"
    }
   },
   "execution_count": 24,
   "outputs": []
  },
  {
   "cell_type": "code",
   "source": [
    "predictions = backtest(sp500, model, new_predictors)"
   ],
   "metadata": {
    "id": "0_EFUmJVAi4V",
    "ExecuteTime": {
     "end_time": "2023-08-16T20:33:03.890226Z",
     "start_time": "2023-08-16T20:32:03.512488Z"
    }
   },
   "execution_count": 25,
   "outputs": []
  },
  {
   "cell_type": "code",
   "source": [
    "# Calcular el recuento de valores únicos en la columna \"Predictions\" del DataFrame predictions\n",
    "# Esto nos dará una idea de cómo se distribuyen las predicciones realizadas por el modelo\n",
    "\n",
    "# Calcular el recuento de valores únicos en la columna \"Predictions\"\n",
    "prediction_counts = predictions[\"Predictions\"].value_counts()\n",
    "\n",
    "# Imprimir el recuento de valores únicos en la columna \"Predictions\"\n",
    "print(prediction_counts)\n"
   ],
   "metadata": {
    "colab": {
     "base_uri": "https://localhost:8080/"
    },
    "id": "fcg17VPgAk-Y",
    "outputId": "13c714bc-ed5d-4497-f43c-701ab6a24009",
    "ExecuteTime": {
     "end_time": "2023-08-16T20:33:03.900916Z",
     "start_time": "2023-08-16T20:33:03.892071Z"
    }
   },
   "execution_count": 26,
   "outputs": [
    {
     "name": "stdout",
     "output_type": "stream",
     "text": [
      "0.0    5080\n",
      "1.0     755\n",
      "Name: Predictions, dtype: int64\n"
     ]
    }
   ]
  },
  {
   "cell_type": "code",
   "source": [
    "# Calcular la precisión del modelo comparando las predicciones con los valores reales del objetivo en el DataFrame predictions\n",
    "precision = precision_score(predictions[\"Target\"], predictions[\"Predictions\"])\n",
    "\n",
    "# Imprimir la precisión del modelo en el backtest con un formato de dos decimales\n",
    "print(f\"Precisión del modelo en el backtest: {precision:.2f}\")"
   ],
   "metadata": {
    "colab": {
     "base_uri": "https://localhost:8080/"
    },
    "id": "X7mIMadAAnDy",
    "outputId": "b21c2713-11d2-4728-c812-1b16c7efb889",
    "ExecuteTime": {
     "end_time": "2023-08-16T20:33:03.937181Z",
     "start_time": "2023-08-16T20:33:03.901827Z"
    }
   },
   "execution_count": 27,
   "outputs": [
    {
     "name": "stdout",
     "output_type": "stream",
     "text": [
      "Precisión del modelo en el backtest: 0.54\n"
     ]
    }
   ]
  },
  {
   "cell_type": "markdown",
   "source": [
    "# Ensamble de modelos\n",
    "- 2 Random forest\n",
    "- 1 Logistic Regression"
   ],
   "metadata": {
    "id": "K94UC6B0eE7O"
   }
  },
  {
   "cell_type": "code",
   "source": [
    "import yfinance as yf\n",
    "import pandas as pd\n",
    "from sklearn.model_selection import train_test_split, cross_val_score\n",
    "from sklearn.ensemble import RandomForestClassifier, VotingClassifier\n",
    "from sklearn.linear_model import LogisticRegression\n",
    "\n",
    "# Descargar los datos del índice S&P 500\n",
    "sp500 = yf.download(\"^GSPC\", start=\"2000-01-01\", end=\"2023-01-01\")\n",
    "\n",
    "# Crear una columna \"Target\" que indica si el precio subirá al día siguiente\n",
    "sp500[\"Target\"] = (sp500[\"Close\"].shift(-1) > sp500[\"Close\"]).astype(int)\n",
    "\n",
    "# Definir los predictores\n",
    "predictors = [\"Close\", \"Volume\", \"Open\", \"High\", \"Low\"]\n",
    "\n",
    "# Dividir los datos en conjuntos de entrenamiento y prueba\n",
    "train, test = train_test_split(sp500, test_size=0.2, shuffle=False)\n",
    "\n",
    "# Crear los modelos individuales\n",
    "model_rf1 = RandomForestClassifier(n_estimators=100, min_samples_split=100, random_state=1)\n",
    "model_rf2 = RandomForestClassifier(n_estimators=200, min_samples_split=10, random_state=1)\n",
    "model_logreg = LogisticRegression()\n",
    "\n",
    "# Crear el ensamblaje de modelos utilizando votación mayoritaria\n",
    "ensemble_model = VotingClassifier(estimators=[\n",
    "    ('rf1', model_rf1),\n",
    "    ('rf2', model_rf2),\n",
    "    ('logreg', model_logreg)\n",
    "], voting='soft')\n",
    "\n",
    "# Realizar validación cruzada en el ensamblaje de modelos\n",
    "cv_scores = cross_val_score(ensemble_model, train[predictors], train[\"Target\"], cv=5, scoring='precision')\n",
    "\n",
    "# Imprimir los resultados de la validación cruzada\n",
    "print(\"Resultados de la Validación Cruzada:\")\n",
    "for i, score in enumerate(cv_scores, start=1):\n",
    "    print(f\"Fold {i}: Precisión = {score:.2f}\")\n",
    "\n",
    "# Entrenar el ensamblaje de modelos con todos los datos de entrenamiento\n",
    "ensemble_model.fit(train[predictors], train[\"Target\"])\n",
    "\n",
    "# Realizar predicciones en el conjunto de prueba\n",
    "preds = ensemble_model.predict(test[predictors])\n",
    "\n",
    "# Calcular la precisión final del modelo ensamblado\n",
    "final_precision = precision_score(test[\"Target\"], preds)\n",
    "print(f\"Precisión final del modelo ensamblado: {final_precision:.2f}\")\n"
   ],
   "metadata": {
    "colab": {
     "base_uri": "https://localhost:8080/"
    },
    "id": "TdaMm0TJeHGH",
    "outputId": "9a700d4b-811f-4ee1-df85-a819fbf99332",
    "ExecuteTime": {
     "end_time": "2023-08-16T20:33:25.069339Z",
     "start_time": "2023-08-16T20:33:03.918253Z"
    }
   },
   "execution_count": 28,
   "outputs": [
    {
     "name": "stdout",
     "output_type": "stream",
     "text": [
      "[*********************100%%**********************]  1 of 1 completed\n",
      "Resultados de la Validación Cruzada:\n",
      "Fold 1: Precisión = 0.48\n",
      "Fold 2: Precisión = 0.49\n",
      "Fold 3: Precisión = 0.53\n",
      "Fold 4: Precisión = 0.52\n",
      "Fold 5: Precisión = 0.61\n",
      "Precisión final del modelo ensamblado: 0.63\n"
     ]
    }
   ]
  },
  {
   "cell_type": "markdown",
   "source": [
    "# Backtesting"
   ],
   "metadata": {
    "id": "ndR9DpN0AIxl"
   }
  },
  {
   "cell_type": "code",
   "source": [
    "!pip install fastquant > /dev/null"
   ],
   "metadata": {
    "id": "j0TCid5sALgS",
    "ExecuteTime": {
     "end_time": "2023-08-16T20:33:40.331358Z",
     "start_time": "2023-08-16T20:33:25.073826Z"
    }
   },
   "execution_count": 29,
   "outputs": []
  },
  {
   "cell_type": "code",
   "source": [
    "from fastquant import backtest, get_stock_data\n",
    "jfc = get_stock_data(\"^GSPC\", \"2018-01-01\", \"2019-01-01\")\n",
    "backtest('smac', jfc, fast_period=15, slow_period=40)"
   ],
   "metadata": {
    "colab": {
     "base_uri": "https://localhost:8080/",
     "height": 1000
    },
    "id": "6tqiO7lmAMGP",
    "outputId": "cf8e0876-fbd1-421b-b2e8-f6143cc5806a",
    "ExecuteTime": {
     "end_time": "2023-08-16T20:34:26.289845Z",
     "start_time": "2023-08-16T20:34:24.896294Z"
    }
   },
   "execution_count": 31,
   "outputs": [
    {
     "name": "stdout",
     "output_type": "stream",
     "text": [
      "[*********************100%%**********************]  1 of 1 completed\n",
      "Starting Portfolio Value: 100000.00\n",
      "2018-12-31T00:00:00, ===Global level arguments===\n",
      "2018-12-31T00:00:00, init_cash : 100000\n",
      "2018-12-31T00:00:00, buy_prop : 1\n",
      "2018-12-31T00:00:00, sell_prop : 1\n",
      "2018-12-31T00:00:00, commission : 0\n",
      "2018-12-31T00:00:00, stop_loss : 0\n",
      "2018-12-31T00:00:00, stop_trail : 0\n",
      "2018-12-31T00:00:00, take_profit : 0\n",
      "2018-12-31T00:00:00, allow_short : False\n",
      "===Strategy level arguments===\n",
      "fast_period : 15\n",
      "slow_period : 40\n",
      "2018-12-31T00:00:00, Final Portfolio Value: 97338.60815429688\n",
      "2018-12-31T00:00:00, Final PnL: -2661.39\n",
      "Time used (seconds): 0.04638385772705078\n",
      "==================================================\n",
      "Number of strat runs: 1\n",
      "Number of strats per run: 1\n",
      "Strat names: ['smac']\n",
      "**************************************************\n",
      "--------------------------------------------------\n",
      "Strategy Parameters\tinit_cash:100000\tbuy_prop:1\tsell_prop:1\tfractional:False\tslippage:0.001\tsingle_position:None\tcommission:0\tstop_loss:0\tstop_trail:0\ttake_profit:0\texecution_type:close\tchannel:\tsymbol:\tallow_short:False\tshort_max:1.5\tadd_cash_amount:0\tadd_cash_freq:M\tinvest_div:True\tfast_period:15\tslow_period:40\n",
      "Returns\trtot:-0.02697448049026289\travg:-0.00010746804976200355\trnorm:-0.02671852074007775\trnorm100:-2.6718520740077754\n",
      "Sharpe\tsharperatio:None\n",
      "Drawdown\tlen:69\tdrawdown:5.556383594264937\tmoneydown:5726.7041015625\tmax:AutoOrderedDict([('len', 85), ('drawdown', 6.872628378453108), ('moneydown', 7083.2958984375)])\n",
      "Timedraw\tmaxdrawdown:6.872628378453108\tmaxdrawdownperiod:85\n",
      "Optimal parameters:\tinit_cash:100000\tbuy_prop:1\tsell_prop:1\tfractional:False\tslippage:0.001\tsingle_position:None\tcommission:0\tstop_loss:0\tstop_trail:0\ttake_profit:0\texecution_type:close\tchannel:\tsymbol:\tallow_short:False\tshort_max:1.5\tadd_cash_amount:0\tadd_cash_freq:M\tinvest_div:True\tfast_period:15\tslow_period:40\n",
      "Optimal metrics:\trtot:-0.02697448049026289\travg:-0.00010746804976200355\trnorm:-0.02671852074007775\trnorm100:-2.6718520740077754\tlen:69\tdrawdown:5.556383594264937\tmoneydown:5726.7041015625\tmax:AutoOrderedDict([('len', 85), ('drawdown', 6.872628378453108), ('moneydown', 7083.2958984375)])\tmaxdrawdown:6.872628378453108\tmaxdrawdownperiod:85\tsharperatio:None\tpnl:-2661.39\tfinal_value:97338.60815429688\ttotal:4\twin_rate:0.25\twon:1\tlost:3\twon_avg:2138.494873046875\twon_avg_prcnt:2.138494873046875\tlost_avg:-1599.9622395833333\tlost_avg_prcnt:-1.5999622395833333\twon_max:2138.494873046875\twon_max_prcnt:2.138494873046875\tlost_max:-2050.907470703125\tlost_max_prcnt:-2.050907470703125\n"
     ]
    },
    {
     "data": {
      "text/plain": "   strat_id  init_cash  buy_prop  sell_prop  fractional  slippage  \\\n0         0     100000         1          1       False     0.001   \n\n  single_position  commission  stop_loss  stop_trail  ...  won lost  \\\n0            None           0          0           0  ...    1    3   \n\n       won_avg won_avg_prcnt    lost_avg  lost_avg_prcnt      won_max  \\\n0  2138.494873      2.138495 -1599.96224       -1.599962  2138.494873   \n\n  won_max_prcnt     lost_max  lost_max_prcnt  \n0      2.138495 -2050.907471       -2.050907  \n\n[1 rows x 46 columns]",
      "text/html": "<div>\n<style scoped>\n    .dataframe tbody tr th:only-of-type {\n        vertical-align: middle;\n    }\n\n    .dataframe tbody tr th {\n        vertical-align: top;\n    }\n\n    .dataframe thead th {\n        text-align: right;\n    }\n</style>\n<table border=\"1\" class=\"dataframe\">\n  <thead>\n    <tr style=\"text-align: right;\">\n      <th></th>\n      <th>strat_id</th>\n      <th>init_cash</th>\n      <th>buy_prop</th>\n      <th>sell_prop</th>\n      <th>fractional</th>\n      <th>slippage</th>\n      <th>single_position</th>\n      <th>commission</th>\n      <th>stop_loss</th>\n      <th>stop_trail</th>\n      <th>...</th>\n      <th>won</th>\n      <th>lost</th>\n      <th>won_avg</th>\n      <th>won_avg_prcnt</th>\n      <th>lost_avg</th>\n      <th>lost_avg_prcnt</th>\n      <th>won_max</th>\n      <th>won_max_prcnt</th>\n      <th>lost_max</th>\n      <th>lost_max_prcnt</th>\n    </tr>\n  </thead>\n  <tbody>\n    <tr>\n      <th>0</th>\n      <td>0</td>\n      <td>100000</td>\n      <td>1</td>\n      <td>1</td>\n      <td>False</td>\n      <td>0.001</td>\n      <td>None</td>\n      <td>0</td>\n      <td>0</td>\n      <td>0</td>\n      <td>...</td>\n      <td>1</td>\n      <td>3</td>\n      <td>2138.494873</td>\n      <td>2.138495</td>\n      <td>-1599.96224</td>\n      <td>-1.599962</td>\n      <td>2138.494873</td>\n      <td>2.138495</td>\n      <td>-2050.907471</td>\n      <td>-2.050907</td>\n    </tr>\n  </tbody>\n</table>\n<p>1 rows × 46 columns</p>\n</div>"
     },
     "execution_count": 31,
     "metadata": {},
     "output_type": "execute_result"
    }
   ]
  },
  {
   "cell_type": "code",
   "execution_count": null,
   "outputs": [],
   "source": [],
   "metadata": {
    "collapsed": false
   }
  }
 ]
}
